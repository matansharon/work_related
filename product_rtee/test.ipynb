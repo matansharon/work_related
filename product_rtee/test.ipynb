{
 "cells": [
  {
   "cell_type": "code",
   "execution_count": 1,
   "id": "aded333b",
   "metadata": {},
   "outputs": [],
   "source": [
    "import pyodbc\n",
    "import pandas as pd\n",
    "conn = pyodbc.connect('Driver={IBM i Access ODBC Driver}; '\n",
    "       'SYSTEM = 192.168.0.161;'\n",
    "        'Hostname=M3; '\n",
    "        'Port=21; '\n",
    "        'Protocol=TCPIP; '\n",
    "        'Database=M3; '\n",
    "        'UID=pud; '\n",
    "        'PWD = Pud142;'\n",
    "        ,autocommit=True)\n",
    "\n"
   ]
  },
  {
   "cell_type": "code",
   "execution_count": 2,
   "id": "4224a777",
   "metadata": {},
   "outputs": [
    {
     "name": "stderr",
     "output_type": "stream",
     "text": [
      "C:\\Users\\matan.s\\Anaconda3\\lib\\site-packages\\pandas\\io\\sql.py:762: UserWarning: pandas only support SQLAlchemy connectable(engine/connection) ordatabase string URI or sqlite3 DBAPI2 connectionother DBAPI2 objects are not tested, please consider using SQLAlchemy\n",
      "  warnings.warn(\n"
     ]
    }
   ],
   "source": [
    "sql=\"SELECT trim(PMPRNO) as pn,trim(PMMTNO) as mn FROM M3FDBTST.MPDMAT m WHERE PMCONO  =1\"\n",
    "products_table = pd.read_sql(sql,conn)"
   ]
  },
  {
   "cell_type": "code",
   "execution_count": 3,
   "id": "248359af",
   "metadata": {},
   "outputs": [
    {
     "name": "stdout",
     "output_type": "stream",
     "text": [
      "Wall time: 1.86 s\n"
     ]
    }
   ],
   "source": [
    "%%time\n",
    "\n",
    "\n",
    "ALL_PRODUCT_NUMBER=set()\n",
    "\n",
    "res=[]\n",
    "\n",
    "for i in range(len(products_table)):\n",
    "    \n",
    "    ALL_PRODUCT_NUMBER.add(products_table.iloc[i].PN)\n"
   ]
  },
  {
   "cell_type": "code",
   "execution_count": 4,
   "id": "287a9b49",
   "metadata": {},
   "outputs": [],
   "source": [
    "def get_all_matiriels(product_number):\n",
    "    res=set()\n",
    "    for i in range(len(products_table)):\n",
    "        row=products_table.iloc[i]\n",
    "        if row.PN==product_number:\n",
    "            res.add(row.MN)\n",
    "    return list(res)"
   ]
  },
  {
   "cell_type": "code",
   "execution_count": 5,
   "id": "44a41481",
   "metadata": {},
   "outputs": [
    {
     "name": "stdout",
     "output_type": "stream",
     "text": [
      "{'139012', '130711', '130202', '130709', '110103', '101004', '190101', '130101', '130207', '100210', '130714', '190102', '130710'}\n",
      "Wall time: 9.23 s\n"
     ]
    }
   ],
   "source": [
    "%%time\n",
    "target=\"566011\"\n",
    "matiriels=[]\n",
    "curr_products=[target]\n",
    "for product in curr_products:\n",
    "    \n",
    "    for i in range(len(products_table)):\n",
    "        row=products_table.iloc[i]\n",
    "        if row.PN==target:\n",
    "            matiriels+=get_all_matiriels(row.MN)\n",
    "    \n",
    "print(set(matiriels))\n",
    "matiriels=set(matiriels)  "
   ]
  },
  {
   "cell_type": "code",
   "execution_count": 6,
   "id": "3eba68f5",
   "metadata": {},
   "outputs": [
    {
     "name": "stderr",
     "output_type": "stream",
     "text": [
      "C:\\Users\\matan.s\\Anaconda3\\lib\\site-packages\\pandas\\io\\sql.py:762: UserWarning: pandas only support SQLAlchemy connectable(engine/connection) ordatabase string URI or sqlite3 DBAPI2 connectionother DBAPI2 objects are not tested, please consider using SQLAlchemy\n",
      "  warnings.warn(\n"
     ]
    }
   ],
   "source": [
    "sql=\"SELECT trim(MMITNO) as IN,trim(MMITDS) as MAT_DES,trim(MMMABU) as type FROM M3FDBTST.MITMAS m WHERE MMCONO  =1\"\n",
    "matriels_table = pd.read_sql(sql,conn)"
   ]
  },
  {
   "cell_type": "code",
   "execution_count": 7,
   "id": "d7464aaa",
   "metadata": {},
   "outputs": [
    {
     "name": "stdout",
     "output_type": "stream",
     "text": [
      "{'130711', '130202', '130709', '101004', '110103', '190101', '130101', '130207', '100210', '130714', '190102', '130710'}\n"
     ]
    }
   ],
   "source": [
    "res=set()\n",
    "\n",
    "for i in matriels_table.values:\n",
    "    \n",
    "    if i[0] in matiriels and i[2]==\"2\":\n",
    "        res.add(i[0])\n",
    "print(res)"
   ]
  },
  {
   "cell_type": "code",
   "execution_count": 8,
   "id": "84338a9c",
   "metadata": {},
   "outputs": [
    {
     "name": "stderr",
     "output_type": "stream",
     "text": [
      "C:\\Users\\matan.s\\Anaconda3\\lib\\site-packages\\pandas\\io\\sql.py:762: UserWarning: pandas only support SQLAlchemy connectable(engine/connection) ordatabase string URI or sqlite3 DBAPI2 connectionother DBAPI2 objects are not tested, please consider using SQLAlchemy\n",
      "  warnings.warn(\n"
     ]
    },
    {
     "name": "stdout",
     "output_type": "stream",
     "text": [
      "Wall time: 683 ms\n"
     ]
    }
   ],
   "source": [
    "%%time\n",
    "sql=\"SELECT * FROM M3FDBTST.MITTRA WHERE MTCONO =1  AND MTBANO ='2225890201'\"\n",
    "transfers=pd.read_sql(sql,conn)"
   ]
  },
  {
   "cell_type": "code",
   "execution_count": 9,
   "id": "cf50c921",
   "metadata": {},
   "outputs": [
    {
     "name": "stdout",
     "output_type": "stream",
     "text": [
      "1178\n"
     ]
    }
   ],
   "source": [
    "print(len(transfers))"
   ]
  }
 ],
 "metadata": {
  "kernelspec": {
   "display_name": "Python 3 (ipykernel)",
   "language": "python",
   "name": "python3"
  },
  "language_info": {
   "codemirror_mode": {
    "name": "ipython",
    "version": 3
   },
   "file_extension": ".py",
   "mimetype": "text/x-python",
   "name": "python",
   "nbconvert_exporter": "python",
   "pygments_lexer": "ipython3",
   "version": "3.9.13"
  }
 },
 "nbformat": 4,
 "nbformat_minor": 5
}
