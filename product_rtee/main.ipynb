{
 "cells": [
  {
   "cell_type": "code",
   "execution_count": 40,
   "id": "604ea92a",
   "metadata": {},
   "outputs": [],
   "source": [
    "cols=[]\n",
    "with open(\"cols.csv\",\"r\")as file:\n",
    "    for i in file:\n",
    "        temp=i.split(\",\")[:-1]\n",
    "    cols=temp\n",
    "        "
   ]
  },
  {
   "cell_type": "code",
   "execution_count": 50,
   "id": "44f315ee",
   "metadata": {},
   "outputs": [],
   "source": [
    "\n",
    "class Row:\n",
    "    def __init__(self,list_of_input):\n",
    "        self.attr={}\n",
    "        \n",
    "        for i in range(len(list_of_input)):\n",
    "            self.attr[cols[i]]=list_of_input[i]\n",
    "    def toString(self):\n",
    "        res=\"\"\n",
    "        for k,v in self.attr.items():\n",
    "            res+=v+\",\"\n",
    "        res=res[:-1]\n",
    "        return res\n",
    "        "
   ]
  },
  {
   "cell_type": "code",
   "execution_count": 53,
   "id": "50ed86ba",
   "metadata": {},
   "outputs": [],
   "source": [
    "def check_for_dup(list_of_data):\n",
    "    dup=0\n",
    "    s=set()\n",
    "    for i in list_of_data:\n",
    "        if i not in s:\n",
    "            s.add(i)\n",
    "        else:\n",
    "            dup+=1\n",
    "    print(dup)"
   ]
  },
  {
   "cell_type": "code",
   "execution_count": 54,
   "id": "ecaea1f3",
   "metadata": {},
   "outputs": [],
   "source": [
    "data=[]\n",
    "\n",
    "with open(\"old_data.csv\",\"r\")as file:\n",
    "    for i in file:\n",
    "        row=i[:-1].split(\",\")\n",
    "        res=[]\n",
    "        for j in row:\n",
    "            res.append(j.strip())\n",
    "        r=Row(res)\n",
    "        data.append(r)\n",
    "temp=data[1:10]\n",
    "\n",
    "\n",
    "\n",
    "\n",
    "    "
   ]
  },
  {
   "cell_type": "code",
   "execution_count": 65,
   "id": "4a9ce189",
   "metadata": {},
   "outputs": [
    {
     "name": "stdout",
     "output_type": "stream",
     "text": [
      "['1', '100', 'B01', '1', 'WC411', '', ' 22.93 ', ' -   ', '', '', 'אוטומטית דלתון', '', '']\n"
     ]
    }
   ],
   "source": [
    "# השךב הבא זה להתאים את מספר העמודות.\n",
    "# לראות במייל שאיכסן שלח\n",
    "new_data=[]\n",
    "with open(\"new_data.csv\",\"r\")as file:\n",
    "    for i in file:\n",
    "        row=i\n",
    "        row=i.strip().split(\",\")[:-1]\n",
    "        row=['1']+row\n",
    "        new_data.append(row)\n",
    "print((new_data[1]))"
   ]
  }
 ],
 "metadata": {
  "kernelspec": {
   "display_name": "Python 3 (ipykernel)",
   "language": "python",
   "name": "python3"
  },
  "language_info": {
   "codemirror_mode": {
    "name": "ipython",
    "version": 3
   },
   "file_extension": ".py",
   "mimetype": "text/x-python",
   "name": "python",
   "nbconvert_exporter": "python",
   "pygments_lexer": "ipython3",
   "version": "3.9.13"
  }
 },
 "nbformat": 4,
 "nbformat_minor": 5
}
